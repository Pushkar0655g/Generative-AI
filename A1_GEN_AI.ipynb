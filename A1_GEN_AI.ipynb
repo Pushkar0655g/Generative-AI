{
  "nbformat": 4,
  "nbformat_minor": 0,
  "metadata": {
    "colab": {
      "provenance": [],
      "include_colab_link": true
    },
    "kernelspec": {
      "name": "python3",
      "display_name": "Python 3"
    },
    "language_info": {
      "name": "python"
    }
  },
  "cells": [
    {
      "cell_type": "markdown",
      "metadata": {
        "id": "view-in-github",
        "colab_type": "text"
      },
      "source": [
        "<a href=\"https://colab.research.google.com/github/Pushkar0655g/Generative-AI/blob/main/A1_GEN_AI.ipynb\" target=\"_parent\"><img src=\"https://colab.research.google.com/assets/colab-badge.svg\" alt=\"Open In Colab\"/></a>"
      ]
    },
    {
      "cell_type": "markdown",
      "source": [
        "**QUESTION 1**"
      ],
      "metadata": {
        "id": "ag9nx2lF7W0L"
      }
    },
    {
      "cell_type": "code",
      "execution_count": 1,
      "metadata": {
        "colab": {
          "base_uri": "https://localhost:8080/"
        },
        "id": "D-Xn4fpq5sKU",
        "outputId": "9de04847-dc31-4ef3-9eca-cb61a967dc23"
      },
      "outputs": [
        {
          "output_type": "stream",
          "name": "stdout",
          "text": [
            "Custom MAE: 0.4600000000000016\n",
            "Custom MSE: 0.24600000000000147\n",
            "Custom R²: 0.99877\n",
            "Sklearn MAE: 0.4600000000000016\n",
            "Sklearn MSE: 0.24600000000000147\n",
            "Sklearn R²: 0.99877\n"
          ]
        }
      ],
      "source": [
        "import numpy as np\n",
        "from sklearn.metrics import mean_absolute_error, mean_squared_error, r2_score\n",
        "actual = np.array([20, 30, 40, 50, 60])\n",
        "predicted = np.array([20.5, 30.3, 40.2, 50.6, 60.7])\n",
        "mae = np.mean(np.abs(actual - predicted))\n",
        "mse = np.mean((actual - predicted) ** 2)\n",
        "r_squared = 1 - (np.sum((actual - predicted) ** 2) / np.sum((actual - np.mean(actual)) ** 2))\n",
        "mae_sklearn = mean_absolute_error(actual, predicted)\n",
        "mse_sklearn = mean_squared_error(actual, predicted)\n",
        "r_squared_sklearn = r2_score(actual, predicted)\n",
        "print(\"Custom MAE:\", mae)\n",
        "print(\"Custom MSE:\", mse)\n",
        "print(\"Custom R²:\", r_squared)\n",
        "print(\"Sklearn MAE:\", mae_sklearn)\n",
        "print(\"Sklearn MSE:\", mse_sklearn)\n",
        "print(\"Sklearn R²:\", r_squared_sklearn)"
      ]
    },
    {
      "cell_type": "markdown",
      "source": [
        "**QUESTION 2**"
      ],
      "metadata": {
        "id": "ZKVjwX5r8f9W"
      }
    },
    {
      "cell_type": "code",
      "source": [
        "import numpy as np\n",
        "from sklearn.metrics import accuracy_score, confusion_matrix\n",
        "y_a = [0, 0, 1, 1, 2, 0, 0, 1, 0, 2, 0, 1, 1, 2, 2, 1, 0, 2, 1, 2, 2, 2]\n",
        "y_p = [0, 0, 1, 0, 2, 0, 0, 1, 2, 2, 0, 1, 1, 2, 2, 1, 0, 2, 1, 0, 2, 2]\n",
        "def calc_acc(y_a, y_p):\n",
        "    c = sum([1 for a, p in zip(y_a, y_p) if a == p])\n",
        "    return c / len(y_a)\n",
        "def calc_cm(y_a, y_p, n_c):\n",
        "    m = np.zeros((n_c, n_c), dtype=int)\n",
        "    for a, p in zip(y_a, y_p):\n",
        "        m[a][p] += 1\n",
        "    return m\n",
        "n_c = len(set(y_a))\n",
        "acc = calc_acc(y_a, y_p)\n",
        "cm = calc_cm(y_a, y_p, n_c)\n",
        "lib_acc = accuracy_score(y_a, y_p)\n",
        "lib_cm = confusion_matrix(y_a, y_p)\n",
        "print(\"Accuracy (from scratch):\", acc)\n",
        "print(\"Confusion Matrix (from scratch):\\n\", cm)\n",
        "print(\"\\nUsing Libraries:\")\n",
        "print(\"Accuracy (library):\", lib_acc)\n",
        "print(\"Confusion Matrix (library):\\n\", lib_cm)"
      ],
      "metadata": {
        "colab": {
          "base_uri": "https://localhost:8080/"
        },
        "id": "87qeguM37dqa",
        "outputId": "9966d602-9a60-4918-9519-d4c82b6d175a"
      },
      "execution_count": 4,
      "outputs": [
        {
          "output_type": "stream",
          "name": "stdout",
          "text": [
            "Accuracy (from scratch): 0.8636363636363636\n",
            "Confusion Matrix (from scratch):\n",
            " [[6 0 1]\n",
            " [1 6 0]\n",
            " [1 0 7]]\n",
            "\n",
            "Using Libraries:\n",
            "Accuracy (library): 0.8636363636363636\n",
            "Confusion Matrix (library):\n",
            " [[6 0 1]\n",
            " [1 6 0]\n",
            " [1 0 7]]\n"
          ]
        }
      ]
    }
  ]
}