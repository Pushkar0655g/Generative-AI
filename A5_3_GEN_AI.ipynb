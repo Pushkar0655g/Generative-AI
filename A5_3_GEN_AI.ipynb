{
  "nbformat": 4,
  "nbformat_minor": 0,
  "metadata": {
    "colab": {
      "provenance": [],
      "include_colab_link": true
    },
    "kernelspec": {
      "name": "python3",
      "display_name": "Python 3"
    },
    "language_info": {
      "name": "python"
    }
  },
  "cells": [
    {
      "cell_type": "markdown",
      "metadata": {
        "id": "view-in-github",
        "colab_type": "text"
      },
      "source": [
        "<a href=\"https://colab.research.google.com/github/Pushkar0655g/Generative-AI/blob/main/A5_3_GEN_AI.ipynb\" target=\"_parent\"><img src=\"https://colab.research.google.com/assets/colab-badge.svg\" alt=\"Open In Colab\"/></a>"
      ]
    },
    {
      "cell_type": "code",
      "execution_count": null,
      "metadata": {
        "colab": {
          "base_uri": "https://localhost:8080/"
        },
        "id": "92VNW16jSpMa",
        "outputId": "c15cd75d-8bdf-4089-dc77-3335fb33ca0d"
      },
      "outputs": [
        {
          "output_type": "stream",
          "name": "stdout",
          "text": [
            "Epoch 0, Loss: 2.945074\n",
            "Epoch 1000, Loss: 0.000165\n",
            "Epoch 2000, Loss: 0.000161\n",
            "Epoch 3000, Loss: 0.000158\n",
            "Epoch 4000, Loss: 0.000154\n",
            "\n",
            "Test MSE: 0.000401\n",
            "\n",
            "Enter x1 and x2: 3 4\n",
            "Predicted Output: 0.480169\n"
          ]
        }
      ],
      "source": [
        "import numpy as np\n",
        "def sigmoid(x):\n",
        "    return 1 / (1 + np.exp(-x))\n",
        "def sigmoid_derivative(x):\n",
        "    return x * (1 - x)\n",
        "\n",
        "def mse(y_true, y_pred):\n",
        "    return np.mean((y_true - y_pred) ** 2)\n",
        "X_train = np.array([[1, 2], [2, 3], [5, 6], [6, 7], [7, 8], [8, 9]])\n",
        "y_train = np.array([[0.4140], [0.4611], [0.5501], [0.5656], [0.5765], [0.5840]])\n",
        "\n",
        "np.random.seed(42)\n",
        "input_size, hidden_size, output_size = 2, 4, 1\n",
        "W1 = np.random.randn(input_size, hidden_size)\n",
        "b1 = np.zeros((1, hidden_size))\n",
        "W2 = np.random.randn(hidden_size, output_size)\n",
        "b2 = np.zeros((1, output_size))\n",
        "\n",
        "epochs = 5000\n",
        "lr = 0.01\n",
        "for epoch in range(epochs):\n",
        "    hidden_input = np.dot(X_train, W1) + b1\n",
        "    hidden_output = sigmoid(hidden_input)\n",
        "    final_input = np.dot(hidden_output, W2) + b2\n",
        "    final_output = final_input\n",
        "    error = final_output - y_train\n",
        "    loss = mse(y_train, final_output)\n",
        "\n",
        "    d_output = error\n",
        "    d_W2 = np.dot(hidden_output.T, d_output)\n",
        "    d_b2 = np.sum(d_output, axis=0, keepdims=True)\n",
        "    d_hidden = np.dot(d_output, W2.T) * sigmoid_derivative(hidden_output)\n",
        "    d_W1 = np.dot(X_train.T, d_hidden)\n",
        "    d_b1 = np.sum(d_hidden, axis=0, keepdims=True)\n",
        "    W2 -= lr * d_W2\n",
        "    b2 -= lr * d_b2\n",
        "    W1 -= lr * d_W1\n",
        "    b1 -= lr * d_b1\n",
        "\n",
        "    if epoch % 1000 == 0:\n",
        "        print(f\"Epoch {epoch}, Loss: {loss:.6f}\")\n",
        "X_test = np.array([[3, 4], [4, 5]])\n",
        "y_test = np.array([[0.4992], [0.5285]])\n",
        "hidden_test = sigmoid(np.dot(X_test, W1) + b1)\n",
        "y_pred_test = np.dot(hidden_test, W2) + b2\n",
        "\n",
        "test_loss = mse(y_test, y_pred_test)\n",
        "print(f\"\\nTest MSE: {test_loss:.6f}\")\n",
        "x1, x2 = map(float, input(\"\\nEnter x1 and x2: \").split())\n",
        "X_user = np.array([[x1, x2]])\n",
        "hidden_user = sigmoid(np.dot(X_user, W1) + b1)\n",
        "y_pred_user = np.dot(hidden_user, W2) + b2\n",
        "print(f\"Predicted Output: {y_pred_user[0][0]:.6f}\")"
      ]
    },
    {
      "cell_type": "code",
      "source": [],
      "metadata": {
        "id": "qijlpwHzTuHU"
      },
      "execution_count": null,
      "outputs": []
    }
  ]
}